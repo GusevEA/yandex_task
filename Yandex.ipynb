{
 "cells": [
  {
   "cell_type": "code",
   "execution_count": 1,
   "metadata": {},
   "outputs": [],
   "source": [
    "import pandas as pd"
   ]
  },
  {
   "cell_type": "code",
   "execution_count": 2,
   "metadata": {},
   "outputs": [],
   "source": [
    "# Чтение и запись данных в датафрейм\n",
    "df_zones = pd.read_csv('place_zone_coordinates.csv')\n",
    "df_users = pd.read_csv('user_coordinates.csv')"
   ]
  },
  {
   "cell_type": "code",
   "execution_count": 3,
   "metadata": {},
   "outputs": [
    {
     "data": {
      "text/html": [
       "<div>\n",
       "<style scoped>\n",
       "    .dataframe tbody tr th:only-of-type {\n",
       "        vertical-align: middle;\n",
       "    }\n",
       "\n",
       "    .dataframe tbody tr th {\n",
       "        vertical-align: top;\n",
       "    }\n",
       "\n",
       "    .dataframe thead th {\n",
       "        text-align: right;\n",
       "    }\n",
       "</style>\n",
       "<table border=\"1\" class=\"dataframe\">\n",
       "  <thead>\n",
       "    <tr style=\"text-align: right;\">\n",
       "      <th></th>\n",
       "      <th>place_id</th>\n",
       "      <th>loc_lat</th>\n",
       "      <th>loc_lon</th>\n",
       "      <th>point_number</th>\n",
       "    </tr>\n",
       "  </thead>\n",
       "  <tbody>\n",
       "    <tr>\n",
       "      <th>0</th>\n",
       "      <td>1</td>\n",
       "      <td>55.747022</td>\n",
       "      <td>37.787073</td>\n",
       "      <td>0</td>\n",
       "    </tr>\n",
       "    <tr>\n",
       "      <th>1</th>\n",
       "      <td>1</td>\n",
       "      <td>55.751713</td>\n",
       "      <td>37.784328</td>\n",
       "      <td>1</td>\n",
       "    </tr>\n",
       "    <tr>\n",
       "      <th>2</th>\n",
       "      <td>1</td>\n",
       "      <td>55.753878</td>\n",
       "      <td>37.777638</td>\n",
       "      <td>2</td>\n",
       "    </tr>\n",
       "    <tr>\n",
       "      <th>3</th>\n",
       "      <td>1</td>\n",
       "      <td>55.751031</td>\n",
       "      <td>37.779351</td>\n",
       "      <td>3</td>\n",
       "    </tr>\n",
       "    <tr>\n",
       "      <th>4</th>\n",
       "      <td>2</td>\n",
       "      <td>55.803885</td>\n",
       "      <td>37.458311</td>\n",
       "      <td>0</td>\n",
       "    </tr>\n",
       "    <tr>\n",
       "      <th>5</th>\n",
       "      <td>2</td>\n",
       "      <td>55.808677</td>\n",
       "      <td>37.464054</td>\n",
       "      <td>1</td>\n",
       "    </tr>\n",
       "    <tr>\n",
       "      <th>6</th>\n",
       "      <td>2</td>\n",
       "      <td>55.809763</td>\n",
       "      <td>37.461314</td>\n",
       "      <td>2</td>\n",
       "    </tr>\n",
       "    <tr>\n",
       "      <th>7</th>\n",
       "      <td>2</td>\n",
       "      <td>55.810840</td>\n",
       "      <td>37.458654</td>\n",
       "      <td>3</td>\n",
       "    </tr>\n",
       "  </tbody>\n",
       "</table>\n",
       "</div>"
      ],
      "text/plain": [
       "   place_id    loc_lat    loc_lon  point_number\n",
       "0         1  55.747022  37.787073             0\n",
       "1         1  55.751713  37.784328             1\n",
       "2         1  55.753878  37.777638             2\n",
       "3         1  55.751031  37.779351             3\n",
       "4         2  55.803885  37.458311             0\n",
       "5         2  55.808677  37.464054             1\n",
       "6         2  55.809763  37.461314             2\n",
       "7         2  55.810840  37.458654             3"
      ]
     },
     "execution_count": 3,
     "metadata": {},
     "output_type": "execute_result"
    }
   ],
   "source": [
    "df_zones"
   ]
  },
  {
   "cell_type": "code",
   "execution_count": 4,
   "metadata": {},
   "outputs": [
    {
     "data": {
      "text/html": [
       "<div>\n",
       "<style scoped>\n",
       "    .dataframe tbody tr th:only-of-type {\n",
       "        vertical-align: middle;\n",
       "    }\n",
       "\n",
       "    .dataframe tbody tr th {\n",
       "        vertical-align: top;\n",
       "    }\n",
       "\n",
       "    .dataframe thead th {\n",
       "        text-align: right;\n",
       "    }\n",
       "</style>\n",
       "<table border=\"1\" class=\"dataframe\">\n",
       "  <thead>\n",
       "    <tr style=\"text-align: right;\">\n",
       "      <th></th>\n",
       "      <th>user_id</th>\n",
       "      <th>loc_lat</th>\n",
       "      <th>loc_lon</th>\n",
       "    </tr>\n",
       "  </thead>\n",
       "  <tbody>\n",
       "    <tr>\n",
       "      <th>0</th>\n",
       "      <td>1</td>\n",
       "      <td>55.737564</td>\n",
       "      <td>37.345186</td>\n",
       "    </tr>\n",
       "    <tr>\n",
       "      <th>1</th>\n",
       "      <td>2</td>\n",
       "      <td>56.234564</td>\n",
       "      <td>37.234590</td>\n",
       "    </tr>\n",
       "    <tr>\n",
       "      <th>2</th>\n",
       "      <td>3</td>\n",
       "      <td>55.234578</td>\n",
       "      <td>36.295745</td>\n",
       "    </tr>\n",
       "  </tbody>\n",
       "</table>\n",
       "</div>"
      ],
      "text/plain": [
       "   user_id    loc_lat    loc_lon\n",
       "0        1  55.737564  37.345186\n",
       "1        2  56.234564  37.234590\n",
       "2        3  55.234578  36.295745"
      ]
     },
     "execution_count": 4,
     "metadata": {},
     "output_type": "execute_result"
    }
   ],
   "source": [
    "df_users"
   ]
  },
  {
   "cell_type": "code",
   "execution_count": 5,
   "metadata": {},
   "outputs": [
    {
     "name": "stdout",
     "output_type": "stream",
     "text": [
      "True\n"
     ]
    }
   ],
   "source": [
    "# Функция для определения находится ли точка (x, y) внутри полигона с координатами (x_p, y_p); x_p, y_p - м.б. заданы списком.\n",
    "# Метод трассировки луча.\n",
    "\n",
    "def in_polygon(x, y, x_p, y_p):\n",
    "    is_in = 0\n",
    "    \n",
    "    for i in range(len(x_p)):\n",
    "        if (((y_p[i] <= y and y < y_p[i-1]) or (y_p[i-1] <= y and y < y_p[i])) \n",
    "            and \n",
    "            (x > (x_p[i-1] - x_p[i]) * (y - y_p[i]) / (y_p[i-1] - y_p[i]) + x_p[i])):\n",
    "            is_in = 1 - is_in   \n",
    "    \n",
    "    return bool(is_in)\n",
    "\n",
    "\n",
    "# Проверка\n",
    "print(in_polygon(1, 1, (10, -10, 10, -10), (10, 10, -10, -10)))"
   ]
  },
  {
   "cell_type": "code",
   "execution_count": 6,
   "metadata": {},
   "outputs": [
    {
     "data": {
      "text/html": [
       "<div>\n",
       "<style scoped>\n",
       "    .dataframe tbody tr th:only-of-type {\n",
       "        vertical-align: middle;\n",
       "    }\n",
       "\n",
       "    .dataframe tbody tr th {\n",
       "        vertical-align: top;\n",
       "    }\n",
       "\n",
       "    .dataframe thead th {\n",
       "        text-align: right;\n",
       "    }\n",
       "</style>\n",
       "<table border=\"1\" class=\"dataframe\">\n",
       "  <thead>\n",
       "    <tr style=\"text-align: right;\">\n",
       "      <th></th>\n",
       "      <th>id</th>\n",
       "      <th>number_of_places_available</th>\n",
       "    </tr>\n",
       "  </thead>\n",
       "  <tbody>\n",
       "    <tr>\n",
       "      <th>0</th>\n",
       "      <td>1.0</td>\n",
       "      <td>0.0</td>\n",
       "    </tr>\n",
       "    <tr>\n",
       "      <th>1</th>\n",
       "      <td>2.0</td>\n",
       "      <td>0.0</td>\n",
       "    </tr>\n",
       "    <tr>\n",
       "      <th>2</th>\n",
       "      <td>3.0</td>\n",
       "      <td>0.0</td>\n",
       "    </tr>\n",
       "  </tbody>\n",
       "</table>\n",
       "</div>"
      ],
      "text/plain": [
       "    id  number_of_places_available\n",
       "0  1.0                         0.0\n",
       "1  2.0                         0.0\n",
       "2  3.0                         0.0"
      ]
     },
     "execution_count": 6,
     "metadata": {},
     "output_type": "execute_result"
    }
   ],
   "source": [
    "# Создание датафрейма для записи результата\n",
    "df_result = pd.DataFrame(columns = ['id', 'number_of_places_available'])\n",
    "ind = 0\n",
    "\n",
    "for user in df_users.user_id:\n",
    "    \n",
    "    user_loc_lat = df_users[df_users.user_id == user].loc_lat.values\n",
    "    user_loc_lon = df_users[df_users.user_id == user].loc_lon.values\n",
    "    \n",
    "    count = 0\n",
    "    \n",
    "    for place in df_zones['place_id'].unique():\n",
    "        \n",
    "        x = df_zones[df_zones.place_id == place].loc_lat.values\n",
    "        y = df_zones[df_zones.place_id == place].loc_lon.values\n",
    "        \n",
    "        # Находится ли координата (user_loc_lat, user_loc_lon) в полигоне x, y\n",
    "        is_in = in_polygon(user_loc_lat, user_loc_lon, x, y)\n",
    "        \n",
    "        if is_in:\n",
    "            count += 1\n",
    "    \n",
    "    # Запись результата\n",
    "    df_result.loc[ind, 'id'] = user\n",
    "    df_result.loc[ind, 'number_of_places_available'] = count\n",
    "    ind += 1\n",
    "        \n",
    "# Запись данных в csv  \n",
    "df_result.to_csv('result.csv', index=False)\n",
    "\n",
    "df_result"
   ]
  }
 ],
 "metadata": {
  "kernelspec": {
   "display_name": "Python 3",
   "language": "python",
   "name": "python3"
  },
  "language_info": {
   "codemirror_mode": {
    "name": "ipython",
    "version": 3
   },
   "file_extension": ".py",
   "mimetype": "text/x-python",
   "name": "python",
   "nbconvert_exporter": "python",
   "pygments_lexer": "ipython3",
   "version": "3.7.2"
  }
 },
 "nbformat": 4,
 "nbformat_minor": 2
}
